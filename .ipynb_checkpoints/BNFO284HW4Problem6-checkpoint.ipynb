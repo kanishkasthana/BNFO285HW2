{
 "cells": [
  {
   "cell_type": "markdown",
   "metadata": {},
   "source": [
    "R Notebook Written by Kanishk Asthana kasthana@eng.ucsd.edu\n",
    "============\n",
    "<h3> Problem 6"
   ]
  },
  {
   "cell_type": "markdown",
   "metadata": {},
   "source": [
    "Reading in Data"
   ]
  },
  {
   "cell_type": "code",
   "execution_count": 44,
   "metadata": {
    "collapsed": false
   },
   "outputs": [
    {
     "data": {
      "text/html": [
       "<table>\n",
       "<thead><tr><th></th><th scope=col>Subject</th><th scope=col>Gene1</th><th scope=col>Gene2</th><th scope=col>Gene3</th><th scope=col>Gene4</th></tr></thead>\n",
       "<tbody>\n",
       "\t<tr><th scope=row>1</th><td>0</td><td>8.995638</td><td>53.69049</td><td>164.7764</td><td>22.73639</td></tr>\n",
       "\t<tr><th scope=row>2</th><td>1</td><td>3.770658</td><td>0.4438038</td><td>230.1021</td><td>38.17607</td></tr>\n",
       "\t<tr><th scope=row>3</th><td>2</td><td>0.1316275</td><td>1.056934</td><td>0.2577198</td><td>49.83409</td></tr>\n",
       "\t<tr><th scope=row>4</th><td>3</td><td>35.18831</td><td>77.39532</td><td>0.8095069</td><td>210.7704</td></tr>\n",
       "\t<tr><th scope=row>5</th><td>4</td><td>1.295443</td><td>0.02771409</td><td>15.75365</td><td>75.94872</td></tr>\n",
       "\t<tr><th scope=row>6</th><td>5</td><td>126.9709</td><td>298.8962</td><td>0.2621438</td><td>75.10097</td></tr>\n",
       "</tbody>\n",
       "</table>\n"
      ],
      "text/latex": [
       "\\begin{tabular}{r|lllll}\n",
       "  & Subject & Gene1 & Gene2 & Gene3 & Gene4\\\\\n",
       "\\hline\n",
       "\t1 & 0 & 8.995638 & 53.69049 & 164.7764 & 22.73639\\\\\n",
       "\t2 & 1 & 3.770658 & 0.4438038 & 230.1021 & 38.17607\\\\\n",
       "\t3 & 2 & 0.1316275 & 1.056934 & 0.2577198 & 49.83409\\\\\n",
       "\t4 & 3 & 35.18831 & 77.39532 & 0.8095069 & 210.7704\\\\\n",
       "\t5 & 4 & 1.295443 & 0.02771409 & 15.75365 & 75.94872\\\\\n",
       "\t6 & 5 & 126.9709 & 298.8962 & 0.2621438 & 75.10097\\\\\n",
       "\\end{tabular}\n"
      ],
      "text/plain": [
       "  Subject       Gene1        Gene2       Gene3     Gene4\n",
       "1       0   8.9956381  53.69049258 164.7763693  22.73639\n",
       "2       1   3.7706580   0.44380382 230.1020791  38.17607\n",
       "3       2   0.1316275   1.05693438   0.2577198  49.83409\n",
       "4       3  35.1883055  77.39532412   0.8095069 210.77035\n",
       "5       4   1.2954434   0.02771409  15.7536538  75.94872\n",
       "6       5 126.9709229 298.89620199   0.2621438  75.10097"
      ]
     },
     "execution_count": 44,
     "metadata": {},
     "output_type": "execute_result"
    }
   ],
   "source": [
    "data=read.csv(\"hw2-p6-data.csv\",header=FALSE)\n",
    "colnames(data)=c(\"Subject\",\"Gene1\",\"Gene2\",\"Gene3\",\"Gene4\")\n",
    "head(data)\n",
    "dataValues=data[,2:5]"
   ]
  },
  {
   "cell_type": "markdown",
   "metadata": {},
   "source": [
    "Applying Pearson's product moment correlation test for all combinations of genes\n"
   ]
  },
  {
   "cell_type": "code",
   "execution_count": 49,
   "metadata": {
    "collapsed": false
   },
   "outputs": [
    {
     "name": "stdout",
     "output_type": "stream",
     "text": [
      "[1] \"Results for Gene Pairs: 1 and 2 .\"\n",
      "\n",
      "\tPearson's product-moment correlation\n",
      "\n",
      "data:  firstVectorToCompare and secondVectorToCompare\n",
      "t = 10.952, df = 998, p-value < 2.2e-16\n",
      "alternative hypothesis: true correlation is not equal to 0\n",
      "95 percent confidence interval:\n",
      " 0.2710722 0.3818008\n",
      "sample estimates:\n",
      "      cor \n",
      "0.3275607 \n",
      "\n",
      "[1] \"Results for Gene Pairs: 1 and 3 .\"\n",
      "\n",
      "\tPearson's product-moment correlation\n",
      "\n",
      "data:  firstVectorToCompare and secondVectorToCompare\n",
      "t = -4.8652, df = 998, p-value = 1.328e-06\n",
      "alternative hypothesis: true correlation is not equal to 0\n",
      "95 percent confidence interval:\n",
      " -0.21220073 -0.09107628\n",
      "sample estimates:\n",
      "     cor \n",
      "-0.15221 \n",
      "\n",
      "[1] \"Results for Gene Pairs: 1 and 4 .\"\n",
      "\n",
      "\tPearson's product-moment correlation\n",
      "\n",
      "data:  firstVectorToCompare and secondVectorToCompare\n",
      "t = 0.36334, df = 998, p-value = 0.7164\n",
      "alternative hypothesis: true correlation is not equal to 0\n",
      "95 percent confidence interval:\n",
      " -0.05052839  0.07344144\n",
      "sample estimates:\n",
      "       cor \n",
      "0.01150072 \n",
      "\n",
      "[1] \"Results for Gene Pairs: 2 and 3 .\"\n",
      "\n",
      "\tPearson's product-moment correlation\n",
      "\n",
      "data:  firstVectorToCompare and secondVectorToCompare\n",
      "t = -5.4787, df = 998, p-value = 5.425e-08\n",
      "alternative hypothesis: true correlation is not equal to 0\n",
      "95 percent confidence interval:\n",
      " -0.2304261 -0.1100465\n",
      "sample estimates:\n",
      "       cor \n",
      "-0.1708739 \n",
      "\n",
      "[1] \"Results for Gene Pairs: 2 and 4 .\"\n",
      "\n",
      "\tPearson's product-moment correlation\n",
      "\n",
      "data:  firstVectorToCompare and secondVectorToCompare\n",
      "t = 0.64719, df = 998, p-value = 0.5177\n",
      "alternative hypothesis: true correlation is not equal to 0\n",
      "95 percent confidence interval:\n",
      " -0.04156368  0.08237067\n",
      "sample estimates:\n",
      "       cor \n",
      "0.02048218 \n",
      "\n",
      "[1] \"Results for Gene Pairs: 3 and 4 .\"\n",
      "\n",
      "\tPearson's product-moment correlation\n",
      "\n",
      "data:  firstVectorToCompare and secondVectorToCompare\n",
      "t = -1.1186, df = 998, p-value = 0.2636\n",
      "alternative hypothesis: true correlation is not equal to 0\n",
      "95 percent confidence interval:\n",
      " -0.0971671  0.0266644\n",
      "sample estimates:\n",
      "        cor \n",
      "-0.03538717 \n",
      "\n"
     ]
    }
   ],
   "source": [
    "results=apply(combn(4,2),2,function(genePair){\n",
    "  firstVectorToCompare=dataValues[,genePair[1]]\n",
    "  secondVectorToCompare=dataValues[,genePair[2]]\n",
    "  print(paste(\"Results for Gene Pairs:\",genePair[1],\"and\",genePair[2],\".\"))\n",
    "  result=cor.test(firstVectorToCompare,secondVectorToCompare)\n",
    "  print(result)\n",
    "})"
   ]
  },
  {
   "cell_type": "markdown",
   "metadata": {},
   "source": [
    "From this analysis we can see that the following Pairs are Positively associated. The Significance with a  P-value significance theshold of 0.05 is also reported:\n",
    "1. 1,2 Significant\n",
    "2. 1,4 Not Significant\n",
    "3. 2,4 Not Significant\n",
    "\n",
    "\n",
    "The following are Negatively Correlated:\n",
    "1. 3,4 Not Significant \n",
    "2. 2,3 Significant\n",
    "3. 1,3 Significant\n"
   ]
  }
 ],
 "metadata": {
  "kernelspec": {
   "display_name": "R",
   "language": "R",
   "name": "ir"
  },
  "language_info": {
   "codemirror_mode": "r",
   "file_extension": ".r",
   "mimetype": "text/x-r-source",
   "name": "R",
   "pygments_lexer": "r",
   "version": "3.2.2"
  }
 },
 "nbformat": 4,
 "nbformat_minor": 0
}
